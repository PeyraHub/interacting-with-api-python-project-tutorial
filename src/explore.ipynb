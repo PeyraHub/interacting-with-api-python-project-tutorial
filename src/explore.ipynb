{
    "cells": [
        {
            "cell_type": "markdown",
            "metadata": {},
            "source": [
                "# Explore here"
            ]
        },
        {
            "cell_type": "code",
            "execution_count": 10,
            "metadata": {},
            "outputs": [],
            "source": [
                "import os\n",
                "import pandas as pd\n",
                "import seaborn as sns\n",
                "from dotenv import load_dotenv\n",
                "\n",
                "# load the .env file variables\n",
                "load_dotenv()\n",
                "\n",
                "client_id = os.environ.get(\"CLIENT_ID\")\n",
                "client_secret = os.environ.get(\"CLIENT_SECRET\")"
            ]
        },
        {
            "cell_type": "code",
            "execution_count": 11,
            "metadata": {},
            "outputs": [],
            "source": [
                "import spotipy as sp\n",
                "from spotipy.oauth2 import SpotifyClientCredentials\n",
                "\n",
                "sp = spotipy.Spotify(auth_manager = SpotifyClientCredentials(client_id = client_id, client_secret = client_secret))"
            ]
        },
        {
            "cell_type": "code",
            "execution_count": 15,
            "metadata": {},
            "outputs": [
                {
                    "name": "stdout",
                    "output_type": "stream",
                    "text": [
                        "1. PERRO NEGRO - 85 popularity\n",
                        "2. un x100to - 80 popularity\n",
                        "3. ADIVINO - 75 popularity\n",
                        "4. LA CANCIÓN - 83 popularity\n",
                        "5. Me Porto Bonito - 82 popularity\n",
                        "6. Ojitos Lindos - 81 popularity\n",
                        "7. DÁKITI - 76 popularity\n",
                        "8. Tití Me Preguntó - 80 popularity\n",
                        "9. Efecto - 80 popularity\n",
                        "10. Moscow Mule - 80 popularity\n"
                    ]
                }
            ],
            "source": [
                "import spotipy\n",
                "from spotipy.oauth2 import SpotifyClientCredentials\n",
                "\n",
                "# Bad Bunny id\n",
                "artist_id = 'spotify:artist:4q3ewBCX7sLwd24euuV69X'\n",
                "\n",
                "# Track filter\n",
                "top_tracks = sp.artist_top_tracks(\"4q3ewBCX7sLwd24euuV69X\", country='Spain')\n",
                "\n",
                "# Top 10 track filter\n",
                "for idx, track in enumerate(top_tracks['tracks'][:10]):\n",
                "    print(f\"{idx + 1}. {track['name']} - {track['popularity']} popularity\")"
            ]
        },
        {
            "cell_type": "code",
            "execution_count": 30,
            "metadata": {},
            "outputs": [
                {
                    "name": "stdout",
                    "output_type": "stream",
                    "text": [
                        "        track_name  popularity\n",
                        "0      PERRO NEGRO          85\n",
                        "3       LA CANCIÓN          83\n",
                        "4  Me Porto Bonito          82\n"
                    ]
                }
            ],
            "source": [
                "import spotipy\n",
                "from spotipy.oauth2 import SpotifyClientCredentials\n",
                "\n",
                "# Track name and popularity and create a dictionary\n",
                "tracks_data = {\n",
                "    'track_name': [track['name'] for track in top_tracks['tracks'][:10]],\n",
                "    'popularity': [track['popularity'] for track in top_tracks['tracks'][:10]]\n",
                "}\n",
                "\n",
                "# Convert dictionary to Pandas DataFrame\n",
                "df_tracks = pd.DataFrame(tracks_data)\n",
                "\n",
                "# Sort DataFrame by popularity (descending order)\n",
                "df_sorted = df_tracks.sort_values(by='popularity', ascending=False)\n",
                "\n",
                "# Top 3 most popular songs\n",
                "print(df_sorted.head(3))"
            ]
        },
        {
            "cell_type": "code",
            "execution_count": 35,
            "metadata": {},
            "outputs": [
                {
                    "data": {
                        "image/png": "[encoded data removed]",
                        "text/plain": [
                            "<Figure size 800x600 with 1 Axes>"
                        ]
                    },
                    "metadata": {},
                    "output_type": "display_data"
                }
            ],
            "source": [
                "import matplotlib.pyplot as plt\n",
                "\n",
                "# Track name, popularity and duration_ms filter\n",
                "tracks_data = {\n",
                "    'track_name': [track['name'] for track in top_tracks['tracks'][:10]],\n",
                "    'popularity': [track['popularity'] for track in top_tracks['tracks'][:10]],\n",
                "    'duration_ms': [track['duration_ms'] for track in top_tracks['tracks'][:10]]\n",
                "}\n",
                "\n",
                "# Convert dictionary to Pandas DataFrame\n",
                "df_tracks = pd.DataFrame(tracks_data)\n",
                "\n",
                "# Duration from milliseconds to minutes\n",
                "df_tracks['duration_min'] = df_tracks['duration_ms'] / 60000\n",
                "\n",
                "plt.figure(figsize=(8, 6))\n",
                "sns.scatterplot(x='duration_min', y='popularity', data=df_tracks)\n",
                "\n",
                "plt.xlabel('Duration (minutes)')\n",
                "plt.ylabel('Popularity')\n",
                "plt.title('Song Duration & Popularity relationshit')\n",
                "\n",
                "plt.show()"
            ]
        }
    ],
    "metadata": {
        "kernelspec": {
            "display_name": "Python 3",
            "language": "python",
            "name": "python3"
        },
        "language_info": {
            "codemirror_mode": {
                "name": "ipython",
                "version": 3
            },
            "file_extension": ".py",
            "mimetype": "text/x-python",
            "name": "python",
            "nbconvert_exporter": "python",
            "pygments_lexer": "ipython3",
            "version": "3.11.4"
        },
        "orig_nbformat": 4
    },
    "nbformat": 4,
    "nbformat_minor": 2
}
